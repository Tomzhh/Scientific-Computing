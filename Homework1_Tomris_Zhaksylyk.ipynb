{
 "cells": [
  {
   "cell_type": "code",
   "execution_count": 81,
   "id": "164baf1a",
   "metadata": {},
   "outputs": [],
   "source": [
    "import numpy as np\n",
    "import math"
   ]
  },
  {
   "cell_type": "markdown",
   "id": "b830bac0",
   "metadata": {},
   "source": [
    "### Task1"
   ]
  },
  {
   "cell_type": "code",
   "execution_count": 84,
   "id": "de4eb7af",
   "metadata": {},
   "outputs": [
    {
     "data": {
      "text/plain": [
       "6.123233995736766e-17"
      ]
     },
     "execution_count": 84,
     "metadata": {},
     "output_type": "execute_result"
    }
   ],
   "source": [
    "x = math.cos(math.pi/2)\n",
    "x"
   ]
  },
  {
   "cell_type": "markdown",
   "id": "94a4c796",
   "metadata": {},
   "source": [
    "### Task2"
   ]
  },
  {
   "cell_type": "code",
   "execution_count": 42,
   "id": "143e203c",
   "metadata": {},
   "outputs": [
    {
     "name": "stdout",
     "output_type": "stream",
     "text": [
      "Backward Error: 0.5022997113278083\n",
      "Forward Error: 0.12301625908797563\n"
     ]
    }
   ],
   "source": [
    "\n",
    "A = np.array([[4, 2], [1, 2]])\n",
    "b = np.array([10.488, 7.119])\n",
    "\n",
    "# Approximate solution\n",
    "x_numerical = np.array([1, 3])\n",
    "\n",
    "# Calculate the residual vector\n",
    "residual = A @ x_numerical - b\n",
    "\n",
    "# Calculate the backward error\n",
    "backward_error = np.linalg.norm(residual)\n",
    "\n",
    "# Calculate the true solution norm\n",
    "true_solution = np.array([10.488, 7.119])\n",
    "true_solution_norm = np.linalg.norm(true_solution)\n",
    "\n",
    "forward_error = x_numerical -(np.linalg.inv(A) @ b)\n",
    "forward_error = np.linalg.norm(forward_error)\n",
    "\n",
    "print(\"Backward Error:\", backward_error)\n",
    "print(\"Forward Error:\", forward_error)\n"
   ]
  },
  {
   "cell_type": "markdown",
   "id": "b9258441",
   "metadata": {},
   "source": [
    "### Task3"
   ]
  },
  {
   "cell_type": "code",
   "execution_count": 80,
   "id": "4f6a834d",
   "metadata": {},
   "outputs": [
    {
     "name": "stdout",
     "output_type": "stream",
     "text": [
      "Coefficients for Degree 2 Polynomial:\n",
      "[ 0.59658071  1.25329314 -0.01085343]\n",
      "Least Squares Error for Degree 2 Polynomial: 7.572480309044888\n",
      "\n",
      "Coefficients for Degree 3 Polynomial:\n",
      "[ 0.62901928  1.1850098   0.03533252 -0.01004723]\n",
      "Least Squares Error for Degree 3 Polynomial: 102.82340797015772\n"
     ]
    }
   ],
   "source": [
    "xi = np.array([1.0, 1.1, 1.3, 1.5, 1.9, 2.1])\n",
    "yi = np.array([1.84, 1.96, 2.21, 2.45, 2.94, 3.18])\n",
    "\n",
    "degree_2 = 2\n",
    "degree_3 = 3\n",
    "\n",
    "# Construct the matrix A and vector b for degree 2 polynomial\n",
    "A2 = np.column_stack([np.ones_like(xi), xi, xi ** 2])\n",
    "b2 = yi\n",
    "\n",
    "# Construct the matrix A and vector b for degree 3 polynomial\n",
    "A3 = np.column_stack([np.ones_like(xi), xi, xi ** 2, xi ** 3])\n",
    "b3 = yi\n",
    "\n",
    "# (SVD) for degree 2 polynomial\n",
    "U2, S2, VT2 = np.linalg.svd(A2, full_matrices=False)\n",
    "x2 = np.dot(VT2.T, np.dot(np.linalg.inv(np.diag(S2)), np.dot(U2.T, b2)))\n",
    "\n",
    "# (SVD) for degree 3 polynomial\n",
    "U3, S3, VT3 = np.linalg.svd(A3, full_matrices=False)\n",
    "x3 = np.dot(VT3.T, np.dot(np.linalg.inv(np.diag(S3)), np.dot(U3.T, b3)))\n",
    "\n",
    "p2 = np.poly1d(x2)\n",
    "p3 = np.poly1d(x3)\n",
    "\n",
    "# Calculate the least squares errors for degree 2 and degree 3\n",
    "error2 = np.sum((A2 @ x2 - yi) ** 2)\n",
    "error3 = np.sum((A3 @ x3 - yi) ** 2)\n",
    "\n",
    "print(\"Coefficients for Degree 2 Polynomial:\")\n",
    "print(x2)\n",
    "print(\"Least Squares Error for Degree 2 Polynomial:\", error2)\n",
    "\n",
    "print(\"\\nCoefficients for Degree 3 Polynomial:\")\n",
    "print(x3)\n",
    "print(\"Least Squares Error for Degree 3 Polynomial:\", error3)\n"
   ]
  }
 ],
 "metadata": {
  "kernelspec": {
   "display_name": "Python 3",
   "language": "python",
   "name": "python3"
  },
  "language_info": {
   "codemirror_mode": {
    "name": "ipython",
    "version": 3
   },
   "file_extension": ".py",
   "mimetype": "text/x-python",
   "name": "python",
   "nbconvert_exporter": "python",
   "pygments_lexer": "ipython3",
   "version": "3.8.8"
  }
 },
 "nbformat": 4,
 "nbformat_minor": 5
}
